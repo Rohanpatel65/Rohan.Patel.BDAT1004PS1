{
 "cells": [
  {
   "cell_type": "markdown",
   "id": "1aab1f06-769a-4fca-a343-a3d05310bfd3",
   "metadata": {},
   "source": [
    "# Question 1\n",
    "<b>What data type is each of the following (evaluate where necessary)? <b>"
   ]
  },
  {
   "cell_type": "code",
   "execution_count": 17,
   "id": "d130f9c8-b1e4-444b-8fcb-75bb11516e95",
   "metadata": {},
   "outputs": [
    {
     "name": "stdout",
     "output_type": "stream",
     "text": [
      "<class 'int'>\n",
      "<class 'float'>\n",
      "<class 'bool'>\n",
      "<class 'str'>\n",
      "<class 'int'>\n",
      "<class 'str'>\n",
      "<class 'str'>\n",
      "<class 'float'>\n",
      "<class 'int'>\n",
      "<class 'set'>\n",
      "<class 'bool'>\n",
      "<class 'float'>\n"
     ]
    }
   ],
   "source": [
    "import math \n",
    "\n",
    "print(type(5))\n",
    "print(type(5.0))\n",
    "print(type(5 > 1))\n",
    "print(type('5'))\n",
    "print(type(5 * 2))\n",
    "print(type('5' * 2))\n",
    "print(type('5' + '2'))\n",
    "print(type(5 / 2))\n",
    "print(type(5 % 2))\n",
    "print(type({5, 2, 1}))\n",
    "print(type(5 == 3))\n",
    "# pi number = 3.14\n",
    "print(type(math.pi))\n",
    "\n"
   ]
  },
  {
   "cell_type": "markdown",
   "id": "0444e699-eba1-485a-b6c5-ffffe3be556f",
   "metadata": {},
   "source": [
    "| Data      | Types        |\n",
    "|:--------- |------------: |\n",
    "| 5         | integer      |\n",
    "| 5.0       | float        |\n",
    "| 5>1       | bool         |\n",
    "| '5'       | string       |\n",
    "| 5 * 2     | integer      |\n",
    "| '5' * 2   | string       |\n",
    "| '5' + '2' | string       |\n",
    "| 5 / 2     | float        |\n",
    "| 5 % 2     | integer      |\n",
    "| {5,2,1}   | set          |\n",
    "| 5 == 3    | bool         |\n",
    "| 3.14      | float        |"
   ]
  },
  {
   "cell_type": "markdown",
   "id": "b13bb9a4-c542-4350-a68f-892cb57e1b4f",
   "metadata": {},
   "source": [
    "# Question 2\n",
    "<p>Write (and evaluate) python expressions that answer these questions:<p>\n",
    "<b>a. How many letters are there in 'Supercalifragilisticexpialidocious'?<b>\n",
    "\n",
    "\n",
    "\n"
   ]
  },
  {
   "cell_type": "code",
   "execution_count": 26,
   "id": "64d43df1-6d46-47f6-9de5-c910d44074eb",
   "metadata": {},
   "outputs": [
    {
     "name": "stdout",
     "output_type": "stream",
     "text": [
      "There are total 34 letters\n"
     ]
    }
   ],
   "source": [
    "a = len('Supercalifragilisticexpialidocious')  #function len() use for length of an object\n",
    "print(\"There are total \" + str(a) + \" letters\") # str() function converts the specified value into a string.\n"
   ]
  },
  {
   "cell_type": "markdown",
   "id": "5900c9f3-aacb-444c-aa00-b0ee2e07284e",
   "metadata": {},
   "source": [
    "<b>b. Does 'Supercalifragilisticexpialidocious' contain 'ice' as a substring<b>"
   ]
  },
  {
   "cell_type": "code",
   "execution_count": 28,
   "id": "8235492a-0d8e-4476-8bfb-b20813ff0218",
   "metadata": {},
   "outputs": [
    {
     "name": "stdout",
     "output_type": "stream",
     "text": [
      "Yes, 'ice' is a substring of superWord.\n"
     ]
    }
   ],
   "source": [
    "superWord = 'Supercalifragilisticexpialidocious'  \n",
    "\n",
    "if 'ice' in superWord:\n",
    "    print(\"Yes, 'ice' is a substring of superWord.\")                                       \n",
    "else:\n",
    "    print(\"No, 'ice' is not a substring of superWord.\")\n"
   ]
  },
  {
   "cell_type": "markdown",
   "id": "61a8bc3d-81a2-44bb-a1d2-169b1bf9afe9",
   "metadata": {},
   "source": [
    "<b>c. Which of the following words is the longest: \n",
    "Supercalifragilisticexpialidocious, Honorificabilitudinitatibus, or \n",
    "Bababadalgharaghtakamminarronnkonn? <b>"
   ]
  },
  {
   "cell_type": "code",
   "execution_count": 3,
   "id": "3c38e055-69f1-43ee-8f3e-ae919b19fa12",
   "metadata": {},
   "outputs": [
    {
     "name": "stdout",
     "output_type": "stream",
     "text": [
      "Supercalifragilisticexpialidocious\n"
     ]
    }
   ],
   "source": [
    "words = ['Supercalifragilisticexpialidocious', 'Honorificabilitudinitatibus', 'Bababadalgharaghtakamminarronnkonn']\n",
    "a = max(words, key=len)   # MAX function finds the highest number in a range.\n",
    "print(a)                              \n"
   ]
  },
  {
   "cell_type": "markdown",
   "id": "c5831ad7-b150-4678-9bff-ce97ec067055",
   "metadata": {},
   "source": [
    "<b>d. Which composer comes first in the dictionary: 'Berlioz', 'Borodin', 'Brian', \n",
    "'Bartok', 'Bellini', 'Buxtehude', 'Bernstein'. Which one comes last?<b>"
   ]
  },
  {
   "cell_type": "code",
   "execution_count": 11,
   "id": "1426ed7f-10bd-40fd-a945-43ce65005d5b",
   "metadata": {},
   "outputs": [
    {
     "name": "stdout",
     "output_type": "stream",
     "text": [
      "first_composer : Bartok  last_composer : Buxtehude\n"
     ]
    }
   ],
   "source": [
    "c = ['Berlioz', 'Borodin', 'Brian', 'Bartok', 'Bellini', 'Buxtehude', 'Bernstein']\n",
    "c. sort()   #sort() is for  sorting list\n",
    "first_c = c[0]   \n",
    "last_c = c[-1] \n",
    "print(\"first_composer : \" + first_c + \"  last_composer : \" + last_c ) \n",
    " "
   ]
  },
  {
   "cell_type": "markdown",
   "id": "20ab93a2-a94b-4bf2-a31f-00bd3eb3e803",
   "metadata": {},
   "source": [
    "# Question 3\n",
    "<b>Implement function triangleArea(a,b,c) that takes as input the lengths of the 3\n",
    "sides of a triangle and returns the area of the triangle. By Heron's formula, the area \n",
    "of a triangle with side lengths a, b, and c is\n",
    "s(s - a)(s -b)(s -c)\n",
    ", where \n",
    "s = (a+b+c)/2.  <b>\n",
    "\n"
   ]
  },
  {
   "cell_type": "code",
   "execution_count": 11,
   "id": "bc7c3b9d-746c-4f64-aa99-f03f6202852d",
   "metadata": {},
   "outputs": [
    {
     "name": "stdout",
     "output_type": "stream",
     "text": [
      "1.7320508075688772\n"
     ]
    }
   ],
   "source": [
    "import math \n",
    "\n",
    "def triangleArea(a, b, c):\n",
    "    s = (a + b + c) / 2\n",
    "    s1 = s * (s - a) * (s - b) * (s - c)\n",
    "    area = math.sqrt(s1) #math.sqrt() method returns the square root of a number\n",
    "    return area\n",
    "\n",
    "print(triangleArea(2,2,2))"
   ]
  },
  {
   "cell_type": "markdown",
   "id": "7b0648a3-1522-4527-ac15-51c6072b18a5",
   "metadata": {},
   "source": [
    "# Question 4\n",
    "<b>Write a program in python to separate odd and even integers in separate arrays.<b>\n"
   ]
  },
  {
   "cell_type": "code",
   "execution_count": 3,
   "id": "18ad0515-b122-4531-8c9b-4b0ae223f257",
   "metadata": {},
   "outputs": [
    {
     "name": "stdin",
     "output_type": "stream",
     "text": [
      "Enter the number of elements:  4\n",
      "Enter value: 45\n",
      "Enter value: 36\n",
      "Enter value: 29\n",
      "Enter value: 4\n"
     ]
    },
    {
     "name": "stdout",
     "output_type": "stream",
     "text": [
      "Even Numbers:\n",
      "[36, 4]\n",
      "\n",
      "Odd Numbers:\n",
      "[45, 29]\n"
     ]
    }
   ],
   "source": [
    "a = int(input(\"Enter the number of elements: \"))\n",
    "evennumber = []\n",
    "oddnumber = []\n",
    "\n",
    "for i in range(a):\n",
    "    number = int(input(\"Enter value:\"))\n",
    "    \n",
    "    # number is even or odd\n",
    "    if number % 2 == 0:\n",
    "        evennumber.append(number)    #append() method help an element to the end of the list.\n",
    "    else:\n",
    "        oddnumber.append(number)\n",
    "        \n",
    "\n",
    "print(\"Even Numbers:\")\n",
    "print(evennumber)\n",
    "\n",
    "print(\"\\nOdd Numbers:\")\n",
    "print(oddnumber)\n",
    "\n"
   ]
  },
  {
   "cell_type": "markdown",
   "id": "275b129b-0369-4688-85e8-d82b489a877d",
   "metadata": {},
   "source": [
    "# Question 5 \n",
    "<b>a. Write a function inside(x,y,x1,y1,x2,y2) that returns True or False \n",
    "depending on whether the point (x,y) lies in the rectangle with lower left \n",
    "corner (x1,y1) and upper right corner (x2,y2).<b>\n"
   ]
  },
  {
   "cell_type": "code",
   "execution_count": 4,
   "id": "d9a79d2f-2723-48dd-8974-e729ab3442f3",
   "metadata": {},
   "outputs": [
    {
     "name": "stdout",
     "output_type": "stream",
     "text": [
      "True\n",
      "False\n"
     ]
    }
   ],
   "source": [
    "\n",
    "def inside(x, y, x1, y1, x2, y2):\n",
    "    if x > x1 and x < x2 and y > y1 and y < y2:\n",
    "        return True\n",
    "    else:\n",
    "        return False\n",
    "\n",
    "\n",
    "print(inside(1,1,0,0,2,3))  \n",
    "print(inside(-1,-1,0,0,2,3))  \n"
   ]
  },
  {
   "cell_type": "markdown",
   "id": "e66fd220-56ef-4aa4-b0c4-8dfbd9b288b2",
   "metadata": {},
   "source": [
    "<b>b. Use function inside() from part a. to write an expression that tests whether \n",
    "the point (1,1) lies in both of the following rectangles: one with lower left \n",
    "corner (0.3, 0.5) and upper right corner (1.1, 0.7) and the other with lower \n",
    "left corner (0.5, 0.2) and upper right corner (1.1, 2). <b>"
   ]
  },
  {
   "cell_type": "code",
   "execution_count": 10,
   "id": "fca982bb-2154-4482-9138-b93fac668b81",
   "metadata": {},
   "outputs": [
    {
     "name": "stdout",
     "output_type": "stream",
     "text": [
      "Point (1,1) lies in both rectangles: False\n"
     ]
    }
   ],
   "source": [
    "def inside(x, y, x1, y1, x2, y2):\n",
    "    if x > x1 and x < x2 and y > y1 and y < y2:\n",
    "        return True\n",
    "    else:\n",
    "        return False\n",
    "\n",
    "x = 1,\n",
    "y = 1,\n",
    "left_corner_x11 = 0.3,\n",
    "left_corner_y11 = 0.5,\n",
    "right_corner_x21 = 1.1, \n",
    "right_corner_y21 = 0.7,\n",
    "left_corner_x12 = 0.5,  \n",
    "left_corner_y12 = 0.2, \n",
    "right_corner_x22 = 1.1, \n",
    "right_corner_y22 = 2\n",
    "result = inside(x, y,left_corner_x11,left_corner_y11,right_corner_x21,right_corner_y21) and inside(x, y,left_corner_x12,left_corner_y12,right_corner_x22,right_corner_y22)\n",
    "\n",
    "print(\"Point (1,1) lies in both rectangles:\", result)\n"
   ]
  },
  {
   "cell_type": "markdown",
   "id": "3e936ffb-76c5-44eb-8847-95dc5f2d0a51",
   "metadata": {},
   "source": [
    "# Question 6\n",
    "<b>You can turn a word into pig-Latin using the following two rules (simplified):\n",
    "• If the word starts with a consonant, move that letter to the end and append \n",
    "'ay'. For example, 'happy' becomes 'appyhay' and 'pencil' becomes 'encilpay'.\n",
    "• If the word starts with a vowel, simply append 'way' to the end of the word. \n",
    "For example, 'enter' becomes 'enterway' and 'other' becomes 'otherway' . For \n",
    "our purposes, there are 5 vowels: a, e, i, o, u (so we count y as a consonant).\n",
    "Write a function pig() that takes a word (i.e., a string) as input and returns its pig-Latin form. Your function should still work if the input word contains upper case \n",
    "characters. Your output should always be lower case however.<b>"
   ]
  },
  {
   "cell_type": "code",
   "execution_count": 12,
   "id": "533d933f-bb2c-4fa3-8af8-8b0a500d39c5",
   "metadata": {},
   "outputs": [
    {
     "name": "stdout",
     "output_type": "stream",
     "text": [
      "appyhay\n"
     ]
    }
   ],
   "source": [
    "def pig(anyWord):\n",
    "    vowels = ['a', 'e', 'i', 'o', 'u']    \n",
    "    if anyWord[0].lower() in vowels:\n",
    "        return anyWord.lower() + 'way'\n",
    "    else:\n",
    "        return anyWord[1:].lower() + anyWord[0].lower() + 'ay'\n",
    "        \n",
    "print(pig(\"happy\"))  "
   ]
  },
  {
   "cell_type": "markdown",
   "id": "01aa7b71-45ef-4879-a026-2af081ba3e7b",
   "metadata": {},
   "source": [
    "# Question 7\n",
    "<b>File bloodtype1.txt records blood-types of patients (A, B, AB, O or OO) at a clinic. \n",
    "Write a function bldcount() that reads the file with name name and reports (i.e., \n",
    "prints) how many patients there are in each bloodtype.<b>"
   ]
  },
  {
   "cell_type": "code",
   "execution_count": 9,
   "id": "658e201d-2ae4-4715-a840-4452817e98e5",
   "metadata": {},
   "outputs": [
    {
     "name": "stdout",
     "output_type": "stream",
     "text": [
      "13 patients with blood type A\n",
      "1 patients with blood type B\n",
      "15 patients with blood type AB\n",
      "15 patients with blood type O\n",
      "0 patients with blood type OO\n"
     ]
    }
   ],
   "source": [
    "\n",
    "def bldcount(file_name):\n",
    "    with open(file_name, 'r') as file:\n",
    "        type_AB = 0\n",
    "        tyoe_B = 0\n",
    "        type_O = 0\n",
    "        type_A = 0\n",
    "        type_OO = 0\n",
    "        for line in file:\n",
    "            for bloodgroups in line.split():\n",
    "                if bloodgroups == \"AB\":\n",
    "                    type_AB += 1\n",
    "                if bloodgroups == \"B\":\n",
    "                    tyoe_B += 1\n",
    "                if bloodgroups == \"O\": \n",
    "                    type_O += 1\n",
    "                if bloodgroups == \"A\":\n",
    "                    type_A += 1\n",
    "                if bloodgroups == \"OO\":\n",
    "                    type_OO += 1\n",
    "\n",
    "        \n",
    "        # converted int to string           \n",
    "        string_AB = str(type_AB) \n",
    "        string_B =  str(tyoe_B)\n",
    "        string_O = str(type_O)\n",
    "        string_A = str(type_A)\n",
    "        string_OO = str(type_OO)\n",
    "        \n",
    "        print(string_AB +  \" patients with blood type A\")\n",
    "        print( string_B +  \" patients with blood type B\")\n",
    "        print(string_O+  \" patients with blood type AB\")\n",
    "        print( string_A +  \" patients with blood type O\")\n",
    "        print( string_OO +  \" patients with blood type OO\")\n",
    "\n",
    "        file.close()\n",
    "        \n",
    "file_name = \"bloodtype1.txt\"\n",
    "bldcount(file_name)\n"
   ]
  },
  {
   "cell_type": "markdown",
   "id": "3968df7a-e198-4cf2-87e2-d91a333331f1",
   "metadata": {},
   "source": [
    "# Question 8\n",
    " <b> Write a function curconv() that takes as input:\n",
    "1. a currency represented using a string (e.g., 'JPY' for the Japanese Yen or \n",
    "'EUR' for the Euro)\n",
    "2. an amount\n",
    "and then converts and returns the amount in US dollars. <b>"
   ]
  },
  {
   "cell_type": "code",
   "execution_count": 10,
   "id": "e978743d-1afd-49df-a4c4-6bc38e6f18f1",
   "metadata": {},
   "outputs": [
    {
     "name": "stdout",
     "output_type": "stream",
     "text": [
      "122.96544\n",
      "1.241401\n"
     ]
    }
   ],
   "source": [
    "\n",
    "def curconv(currencies , amount):\n",
    "    file_name = \"currencies.txt\"\n",
    "    changingRates = {}\n",
    "    with open(file_name, 'r') as file:\n",
    "        \n",
    "        for line in file:\n",
    "            data = line.split()\n",
    "            changingRates[data[0]] = float(data[1])\n",
    "    \n",
    "        currency.upper()\n",
    "        rate = changingRates[currency]\n",
    "        if currency in changingRates :\n",
    "            print(amount * rate)\n",
    "        else:\n",
    "            print(\"not found\")\n",
    "      \n",
    "        file.close()\n",
    "\n",
    "curconv('JPY', 100)  # Convert 100 Japanese Yen to USD\n",
    "curconv('EUR', 100)  # Convert 100 Euros to USD\n"
   ]
  },
  {
   "cell_type": "markdown",
   "id": "5d47c6e2-85f9-4073-aa8b-53dbe1c34235",
   "metadata": {},
   "source": [
    "# Question 9\n",
    "<b>Each of the following will cause an exception (an error). Identify what type of \n",
    "exception each will cause<b>\n"
   ]
  },
  {
   "cell_type": "markdown",
   "id": "58160880-6cc8-4338-a16f-6a65632e3945",
   "metadata": {},
   "source": [
    "<b>1.Trying to add incompatible variables, as in \n",
    "adding 6 + ‘a’<b>"
   ]
  },
  {
   "cell_type": "code",
   "execution_count": 57,
   "id": "46565a71-52f3-4972-88b9-80b375cd97ca",
   "metadata": {},
   "outputs": [
    {
     "ename": "TypeError",
     "evalue": "unsupported operand type(s) for +: 'int' and 'str'",
     "output_type": "error",
     "traceback": [
      "\u001b[1;31m---------------------------------------------------------------------------\u001b[0m",
      "\u001b[1;31mTypeError\u001b[0m                                 Traceback (most recent call last)",
      "Cell \u001b[1;32mIn[57], line 1\u001b[0m\n\u001b[1;32m----> 1\u001b[0m \u001b[38;5;28mprint\u001b[39m(\u001b[38;5;241;43m6\u001b[39;49m\u001b[43m \u001b[49m\u001b[38;5;241;43m+\u001b[39;49m\u001b[43m \u001b[49m\u001b[38;5;124;43m'\u001b[39;49m\u001b[38;5;124;43ma\u001b[39;49m\u001b[38;5;124;43m'\u001b[39;49m)\n\u001b[0;32m      2\u001b[0m \u001b[38;5;66;03m# TypeError: This is because you're trying to add an integer and a string, which are incompatible types.\u001b[39;00m\n",
      "\u001b[1;31mTypeError\u001b[0m: unsupported operand type(s) for +: 'int' and 'str'"
     ]
    }
   ],
   "source": [
    "print(6 + 'a')\n",
    "# TypeError: unsupported operand type(s) add an 'int' and 'str'."
   ]
  },
  {
   "cell_type": "markdown",
   "id": "c0db9ac2-a41a-4c0f-8faa-9e100150ca81",
   "metadata": {},
   "source": [
    "<b>2.Referring to the 12th item of a list that has only 10 \n",
    "items <b>"
   ]
  },
  {
   "cell_type": "code",
   "execution_count": 13,
   "id": "49c38dfd-f9e6-43b9-b609-32f066802874",
   "metadata": {},
   "outputs": [
    {
     "ename": "IndexError",
     "evalue": "list index out of range",
     "output_type": "error",
     "traceback": [
      "\u001b[1;31m---------------------------------------------------------------------------\u001b[0m",
      "\u001b[1;31mIndexError\u001b[0m                                Traceback (most recent call last)",
      "Cell \u001b[1;32mIn[13], line 2\u001b[0m\n\u001b[0;32m      1\u001b[0m \u001b[38;5;28mlist\u001b[39m \u001b[38;5;241m=\u001b[39m [\u001b[38;5;241m11\u001b[39m, \u001b[38;5;241m42\u001b[39m, \u001b[38;5;241m23\u001b[39m, \u001b[38;5;241m4\u001b[39m, \u001b[38;5;241m25\u001b[39m, \u001b[38;5;241m76\u001b[39m, \u001b[38;5;241m57\u001b[39m, \u001b[38;5;241m98\u001b[39m, \u001b[38;5;241m59\u001b[39m, \u001b[38;5;241m17\u001b[39m]\n\u001b[1;32m----> 2\u001b[0m \u001b[38;5;28mprint\u001b[39m(\u001b[38;5;28;43mlist\u001b[39;49m\u001b[43m[\u001b[49m\u001b[38;5;241;43m11\u001b[39;49m\u001b[43m]\u001b[49m)\n\u001b[0;32m      3\u001b[0m \u001b[38;5;66;03m# IndexError: list index out of range\u001b[39;00m\n",
      "\u001b[1;31mIndexError\u001b[0m: list index out of range"
     ]
    }
   ],
   "source": [
    "list = [11, 42, 23, 4, 25, 76, 57, 98, 59, 17]\n",
    "print(list[11])\n",
    "# IndexError: list index out of range"
   ]
  },
  {
   "cell_type": "markdown",
   "id": "c2285a31-5368-418e-8649-da2c13c1b46c",
   "metadata": {},
   "source": [
    "<b>3.Using a value that is out of range for a function’s \n",
    "input, such as calling math.sqrt(-1.0)<b>\n"
   ]
  },
  {
   "cell_type": "code",
   "execution_count": 63,
   "id": "f04439d9-b9d0-4105-b424-9acba94af6cb",
   "metadata": {},
   "outputs": [
    {
     "ename": "ValueError",
     "evalue": "math domain error",
     "output_type": "error",
     "traceback": [
      "\u001b[1;31m---------------------------------------------------------------------------\u001b[0m",
      "\u001b[1;31mValueError\u001b[0m                                Traceback (most recent call last)",
      "Cell \u001b[1;32mIn[63], line 1\u001b[0m\n\u001b[1;32m----> 1\u001b[0m result \u001b[38;5;241m=\u001b[39m \u001b[43mmath\u001b[49m\u001b[38;5;241;43m.\u001b[39;49m\u001b[43msqrt\u001b[49m\u001b[43m(\u001b[49m\u001b[38;5;241;43m-\u001b[39;49m\u001b[38;5;241;43m1.0\u001b[39;49m\u001b[43m)\u001b[49m\n\u001b[0;32m      2\u001b[0m \u001b[38;5;28mprint\u001b[39m(result)\n\u001b[0;32m      3\u001b[0m \u001b[38;5;66;03m# ValueError: This is because the math.sqrt function is not defined for negative numbers.\u001b[39;00m\n",
      "\u001b[1;31mValueError\u001b[0m: math domain error"
     ]
    }
   ],
   "source": [
    "result = math.sqrt(-1.0)\n",
    "print(result)\n",
    "# ValueError: math.sqrt function is not defined for negative numbers.\n"
   ]
  },
  {
   "cell_type": "markdown",
   "id": "d7575154-a7c5-465b-95c3-fa30b1660863",
   "metadata": {},
   "source": [
    "<b>4.Using an undeclared variable, such as print(x)\n",
    "when x has not been defined<b>"
   ]
  },
  {
   "cell_type": "code",
   "execution_count": 65,
   "id": "34bd2959-4120-4480-aca3-a7e671f9270c",
   "metadata": {},
   "outputs": [
    {
     "ename": "NameError",
     "evalue": "name 'x' is not defined",
     "output_type": "error",
     "traceback": [
      "\u001b[1;31m---------------------------------------------------------------------------\u001b[0m",
      "\u001b[1;31mNameError\u001b[0m                                 Traceback (most recent call last)",
      "Cell \u001b[1;32mIn[65], line 2\u001b[0m\n\u001b[0;32m      1\u001b[0m y \u001b[38;5;241m=\u001b[39m \u001b[38;5;241m10\u001b[39m\n\u001b[1;32m----> 2\u001b[0m \u001b[38;5;28mprint\u001b[39m(\u001b[43mx\u001b[49m)\n\u001b[0;32m      3\u001b[0m \u001b[38;5;66;03m# NameError: This is because the variable x is not defined in the current scope.\u001b[39;00m\n",
      "\u001b[1;31mNameError\u001b[0m: name 'x' is not defined"
     ]
    }
   ],
   "source": [
    "y = 10\n",
    "print(x)\n",
    "# NameError: name 'x' is not defined."
   ]
  },
  {
   "cell_type": "markdown",
   "id": "4b004786-3d54-44cf-8cd7-355ceb70c967",
   "metadata": {},
   "source": [
    "<b>5.Trying to open a file that does not exist, such as \n",
    "mistyping the file name or looking in the wrong \n",
    "directory<b>"
   ]
  },
  {
   "cell_type": "code",
   "execution_count": 66,
   "id": "6cb26201-b03b-4a58-9377-f4b508d5b3de",
   "metadata": {},
   "outputs": [
    {
     "ename": "FileNotFoundError",
     "evalue": "[Errno 2] No such file or directory: 'bloodtype2.txt'",
     "output_type": "error",
     "traceback": [
      "\u001b[1;31m---------------------------------------------------------------------------\u001b[0m",
      "\u001b[1;31mFileNotFoundError\u001b[0m                         Traceback (most recent call last)",
      "Cell \u001b[1;32mIn[66], line 1\u001b[0m\n\u001b[1;32m----> 1\u001b[0m file \u001b[38;5;241m=\u001b[39m \u001b[38;5;28;43mopen\u001b[39;49m\u001b[43m(\u001b[49m\u001b[38;5;124;43m\"\u001b[39;49m\u001b[38;5;124;43mbloodtype2.txt\u001b[39;49m\u001b[38;5;124;43m\"\u001b[39;49m\u001b[43m)\u001b[49m\n\u001b[0;32m      2\u001b[0m \u001b[38;5;28mprint\u001b[39m(file\u001b[38;5;241m.\u001b[39mread())\n\u001b[0;32m      4\u001b[0m \u001b[38;5;66;03m# FileNotFoundError: This is because the file you're trying to open does not exist.\u001b[39;00m\n",
      "File \u001b[1;32m~\\AppData\\Roaming\\Python\\Python312\\site-packages\\IPython\\core\\interactiveshell.py:324\u001b[0m, in \u001b[0;36m_modified_open\u001b[1;34m(file, *args, **kwargs)\u001b[0m\n\u001b[0;32m    317\u001b[0m \u001b[38;5;28;01mif\u001b[39;00m file \u001b[38;5;129;01min\u001b[39;00m {\u001b[38;5;241m0\u001b[39m, \u001b[38;5;241m1\u001b[39m, \u001b[38;5;241m2\u001b[39m}:\n\u001b[0;32m    318\u001b[0m     \u001b[38;5;28;01mraise\u001b[39;00m \u001b[38;5;167;01mValueError\u001b[39;00m(\n\u001b[0;32m    319\u001b[0m         \u001b[38;5;124mf\u001b[39m\u001b[38;5;124m\"\u001b[39m\u001b[38;5;124mIPython won\u001b[39m\u001b[38;5;124m'\u001b[39m\u001b[38;5;124mt let you open fd=\u001b[39m\u001b[38;5;132;01m{\u001b[39;00mfile\u001b[38;5;132;01m}\u001b[39;00m\u001b[38;5;124m by default \u001b[39m\u001b[38;5;124m\"\u001b[39m\n\u001b[0;32m    320\u001b[0m         \u001b[38;5;124m\"\u001b[39m\u001b[38;5;124mas it is likely to crash IPython. If you know what you are doing, \u001b[39m\u001b[38;5;124m\"\u001b[39m\n\u001b[0;32m    321\u001b[0m         \u001b[38;5;124m\"\u001b[39m\u001b[38;5;124myou can use builtins\u001b[39m\u001b[38;5;124m'\u001b[39m\u001b[38;5;124m open.\u001b[39m\u001b[38;5;124m\"\u001b[39m\n\u001b[0;32m    322\u001b[0m     )\n\u001b[1;32m--> 324\u001b[0m \u001b[38;5;28;01mreturn\u001b[39;00m \u001b[43mio_open\u001b[49m\u001b[43m(\u001b[49m\u001b[43mfile\u001b[49m\u001b[43m,\u001b[49m\u001b[43m \u001b[49m\u001b[38;5;241;43m*\u001b[39;49m\u001b[43margs\u001b[49m\u001b[43m,\u001b[49m\u001b[43m \u001b[49m\u001b[38;5;241;43m*\u001b[39;49m\u001b[38;5;241;43m*\u001b[39;49m\u001b[43mkwargs\u001b[49m\u001b[43m)\u001b[49m\n",
      "\u001b[1;31mFileNotFoundError\u001b[0m: [Errno 2] No such file or directory: 'bloodtype2.txt'"
     ]
    }
   ],
   "source": [
    "file = open(\"bloodtype2.txt\")\n",
    "print(file.read())\n",
    "# FileNotFoundError: this file name does not exist."
   ]
  },
  {
   "cell_type": "markdown",
   "id": "ea216ca9-8926-49ec-8d62-afcb27a6875b",
   "metadata": {},
   "source": [
    "# Question 10\n",
    "<b>Encryption is the process of hiding the meaning of a text by substituting letters in the \n",
    "message with other letters, according to some system. If the process is successful, no \n",
    "one but the intended recipient can understand the encrypted message. Cryptanalysis\n",
    "refers to attempts to undo the encryption, even if some details of the encryption are \n",
    "unknown (for example, if an encrypted message has been intercepted). The first step \n",
    "of cryptanalysis is often to build up a table of letter frequencies in the encrypted text. \n",
    "Assume that the string letters is already defined as \n",
    "'abcdefghijklmnopqrstuvwxyz'. Write a function called frequencies()\n",
    "that takes a string as its only parameter, and returns a list of integers, showing the \n",
    "number of times each character appears in the text. Your function may ignore any \n",
    "characters that are not in letters.<b>"
   ]
  },
  {
   "cell_type": "code",
   "execution_count": 4,
   "id": "fb037b45-f0e8-478f-91cf-0bacd3d0d662",
   "metadata": {},
   "outputs": [
    {
     "name": "stdout",
     "output_type": "stream",
     "text": [
      "[1, 0, 0, 0, 1, 0, 0, 0, 0, 0, 0, 1, 0, 0, 0, 2, 0, 0, 0, 0, 0, 0, 0, 0, 0, 0]\n"
     ]
    }
   ],
   "source": [
    "def frequencies(word):\n",
    "    letters = 'abcdefghijklmnopqrstuvwxyz'\n",
    "    total_len = len(letters)\n",
    "    data = [0] * total_len\n",
    "    for char in word:\n",
    "        if char in letters:\n",
    "            index = letters.index(char)\n",
    "            data[index] += 1\n",
    "    return data\n",
    "\n",
    "print(frequencies(\"apple\")) \n"
   ]
  },
  {
   "cell_type": "code",
   "execution_count": null,
   "id": "63a2e1dc-18e9-4af5-a4a0-2da124450640",
   "metadata": {},
   "outputs": [],
   "source": [
    "# REFRENCE :\n",
    "# https://stackoverflow.com/questions/961632/convert-integer-to-string-in-python"
   ]
  }
 ],
 "metadata": {
  "kernelspec": {
   "display_name": "Python 3 (ipykernel)",
   "language": "python",
   "name": "python3"
  },
  "language_info": {
   "codemirror_mode": {
    "name": "ipython",
    "version": 3
   },
   "file_extension": ".py",
   "mimetype": "text/x-python",
   "name": "python",
   "nbconvert_exporter": "python",
   "pygments_lexer": "ipython3",
   "version": "3.12.3"
  }
 },
 "nbformat": 4,
 "nbformat_minor": 5
}
